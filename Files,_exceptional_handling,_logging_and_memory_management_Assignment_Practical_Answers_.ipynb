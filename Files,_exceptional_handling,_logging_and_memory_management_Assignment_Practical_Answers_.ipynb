{
  "nbformat": 4,
  "nbformat_minor": 0,
  "metadata": {
    "colab": {
      "provenance": []
    },
    "kernelspec": {
      "name": "python3",
      "display_name": "Python 3"
    },
    "language_info": {
      "name": "python"
    }
  },
  "cells": [
    {
      "cell_type": "markdown",
      "source": [
        "#Files, exceptional handling, logging and memory management  Assignment Practical Answers"
      ],
      "metadata": {
        "id": "nRYQpe09WXCj"
      }
    },
    {
      "cell_type": "markdown",
      "source": [
        "###1. How can you open a file for writing in Python and write a string to it?"
      ],
      "metadata": {
        "id": "07VQtFfHWxvo"
      }
    },
    {
      "cell_type": "code",
      "source": [
        "with open(\"example.txt\", \"w\") as file:\n",
        "    file.write(\"Hello, World!\")\n"
      ],
      "metadata": {
        "id": "BuPnFdOyW7T6"
      },
      "execution_count": 1,
      "outputs": []
    },
    {
      "cell_type": "markdown",
      "source": [
        "###2. Write a Python program to read the contents of a file and print each line."
      ],
      "metadata": {
        "id": "VwMz-v84ZnOA"
      }
    },
    {
      "cell_type": "code",
      "source": [
        "with open(\"example.txt\", \"r\") as file:\n",
        "    for line in file:\n",
        "        print(line.strip())\n"
      ],
      "metadata": {
        "colab": {
          "base_uri": "https://localhost:8080/"
        },
        "id": "XwlCQqsGYIs4",
        "outputId": "0f7fc2aa-ed81-4016-f973-2f65e259afb9"
      },
      "execution_count": 2,
      "outputs": [
        {
          "output_type": "stream",
          "name": "stdout",
          "text": [
            "Hello, World!\n"
          ]
        }
      ]
    },
    {
      "cell_type": "markdown",
      "source": [
        "###3.How would you handle a case where the file doesn't exist while trying to open it for reading."
      ],
      "metadata": {
        "id": "trOuaYRnZreQ"
      }
    },
    {
      "cell_type": "code",
      "source": [
        "try:\n",
        "    with open(\"nonexistent.txt\", \"r\") as file:\n",
        "        content = file.read()\n",
        "except FileNotFoundError:\n",
        "    print(\"File not found.\")\n"
      ],
      "metadata": {
        "colab": {
          "base_uri": "https://localhost:8080/"
        },
        "id": "nPgZ_vXZZYtR",
        "outputId": "f33d5796-1c9b-4b66-f260-c5909fb27919"
      },
      "execution_count": 3,
      "outputs": [
        {
          "output_type": "stream",
          "name": "stdout",
          "text": [
            "File not found.\n"
          ]
        }
      ]
    },
    {
      "cell_type": "markdown",
      "source": [
        "###4. Write a Python script that reads from one file and writes its content to another file."
      ],
      "metadata": {
        "id": "48t0CEVoZtC7"
      }
    },
    {
      "cell_type": "code",
      "source": [
        "# Python script to copy contents from one file to another\n",
        "\n",
        "# File paths\n",
        "source_file = \"source.txt\"\n",
        "destination_file = \"destination.txt\"\n",
        "\n",
        "try:\n",
        "    # Open the source file in read mode and destination file in write mode\n",
        "    with open(source_file, 'r') as src, open(destination_file, 'w') as dest:\n",
        "        # Read content from source and write to destination\n",
        "        for line in src:\n",
        "            dest.write(line)\n",
        "    print(f\"Contents copied from {source_file} to {destination_file} successfully.\")\n",
        "except FileNotFoundError:\n",
        "    print(f\"Error: The file '{source_file}' does not exist.\")\n",
        "except Exception as e:\n",
        "    print(f\"An error occurred: {e}\")\n"
      ],
      "metadata": {
        "id": "qOOpht_lZ2yd",
        "colab": {
          "base_uri": "https://localhost:8080/"
        },
        "outputId": "0578a5af-fa98-4191-d06e-7ce141b7c792"
      },
      "execution_count": 4,
      "outputs": [
        {
          "output_type": "stream",
          "name": "stdout",
          "text": [
            "Error: The file 'source.txt' does not exist.\n"
          ]
        }
      ]
    },
    {
      "cell_type": "markdown",
      "source": [
        "###5.How would you catch and handle division by zero error in Python?"
      ],
      "metadata": {
        "id": "UVbUsuuBcUEE"
      }
    },
    {
      "cell_type": "code",
      "source": [
        "try:\n",
        "    numerator = 10\n",
        "    denominator = 0\n",
        "    result = numerator / denominator\n",
        "    print(f\"Result: {result}\")\n",
        "except ZeroDivisionError:\n",
        "    print(\"Error: Division by zero is not allowed.\")\n"
      ],
      "metadata": {
        "colab": {
          "base_uri": "https://localhost:8080/"
        },
        "id": "_xbQZaSycdTC",
        "outputId": "74837fd0-3ef1-45f5-9400-c11f5888ec12"
      },
      "execution_count": 5,
      "outputs": [
        {
          "output_type": "stream",
          "name": "stdout",
          "text": [
            "Error: Division by zero is not allowed.\n"
          ]
        }
      ]
    },
    {
      "cell_type": "code",
      "source": [
        "###6.  Write a Python program that logs an error message to a log file when a division by zero exception occurs."
      ],
      "metadata": {
        "id": "NMTb0oa6chhr"
      },
      "execution_count": 6,
      "outputs": []
    },
    {
      "cell_type": "code",
      "source": [
        "import logging\n",
        "\n",
        "# Configure logging to write to a file\n",
        "logging.basicConfig(\n",
        "    filename='error.log',\n",
        "    level=logging.ERROR,\n",
        "    format='%(asctime)s - %(levelname)s - %(message)s'\n",
        ")\n",
        "\n",
        "def divide(a, b):\n",
        "    try:\n",
        "        return a / b\n",
        "    except ZeroDivisionError as e:\n",
        "        logging.error(\"Attempted to divide by zero. Inputs: a=%s, b=%s\", a, b)\n",
        "        print(\"Error: Division by zero is not allowed.\")\n",
        "        return None\n",
        "\n",
        "# Example usage\n",
        "numerator = 10\n",
        "denominator = 0\n",
        "\n",
        "result = divide(numerator, denominator)\n"
      ],
      "metadata": {
        "colab": {
          "base_uri": "https://localhost:8080/"
        },
        "id": "DYVyQllicsGM",
        "outputId": "a7c66d39-7d96-4039-d18a-d17f6553a4cf"
      },
      "execution_count": 8,
      "outputs": [
        {
          "output_type": "stream",
          "name": "stderr",
          "text": [
            "ERROR:root:Attempted to divide by zero. Inputs: a=10, b=0\n"
          ]
        },
        {
          "output_type": "stream",
          "name": "stdout",
          "text": [
            "Error: Division by zero is not allowed.\n"
          ]
        }
      ]
    },
    {
      "cell_type": "markdown",
      "source": [
        "###7. How do you log information at different levels (INFO, ERROR, WARNING) in Python using the logging module?"
      ],
      "metadata": {
        "id": "3cjQJSeGc6vU"
      }
    },
    {
      "cell_type": "code",
      "source": [
        "import logging\n",
        "\n",
        "logging.basicConfig(level=logging.DEBUG, filename='app.log', format='%(levelname)s: %(message)s')\n",
        "\n",
        "logging.info(\"This is an info message\")\n",
        "logging.warning(\"This is a warning message\")\n",
        "logging.error(\"This is an error message\")\n"
      ],
      "metadata": {
        "colab": {
          "base_uri": "https://localhost:8080/"
        },
        "id": "FFnKntCddKag",
        "outputId": "12e6dfab-acc7-4f35-bc31-0c1529cb307c"
      },
      "execution_count": 9,
      "outputs": [
        {
          "output_type": "stream",
          "name": "stderr",
          "text": [
            "WARNING:root:This is a warning message\n",
            "ERROR:root:This is an error message\n"
          ]
        }
      ]
    },
    {
      "cell_type": "markdown",
      "source": [
        "###8. Write a program to handle a file opening error using exception handling."
      ],
      "metadata": {
        "id": "-Mn3Xc-NdXQr"
      }
    },
    {
      "cell_type": "code",
      "source": [
        "try:\n",
        "    with open('myfile.txt', 'r') as f:\n",
        "        data = f.read()\n",
        "except FileNotFoundError:\n",
        "    print(\"Error: File not found.\")\n"
      ],
      "metadata": {
        "colab": {
          "base_uri": "https://localhost:8080/"
        },
        "id": "YWfUZs7Zda5D",
        "outputId": "d12c6592-d14d-4788-b044-b18edec63479"
      },
      "execution_count": 10,
      "outputs": [
        {
          "output_type": "stream",
          "name": "stdout",
          "text": [
            "Error: File not found.\n"
          ]
        }
      ]
    },
    {
      "cell_type": "markdown",
      "source": [
        "###9. How can you read a file line by line and store its content in a list in Python?"
      ],
      "metadata": {
        "id": "nmE5zkOXdd7U"
      }
    },
    {
      "cell_type": "code",
      "source": [
        "# Read file line by line and store in a list\n",
        "with open('example.txt', 'r') as file:\n",
        "    lines = file.readlines()\n",
        "\n",
        "# Print the list to see the contents\n",
        "print(lines)\n"
      ],
      "metadata": {
        "colab": {
          "base_uri": "https://localhost:8080/"
        },
        "id": "u7xySkjDdj4N",
        "outputId": "bcab7664-11fb-439e-ef73-275e93400a3d"
      },
      "execution_count": 12,
      "outputs": [
        {
          "output_type": "stream",
          "name": "stdout",
          "text": [
            "['Hello, World!']\n"
          ]
        }
      ]
    },
    {
      "cell_type": "code",
      "source": [
        "###10. How can you append data to an existing file in Python?"
      ],
      "metadata": {
        "id": "YVvIcePkduPo"
      },
      "execution_count": 13,
      "outputs": []
    },
    {
      "cell_type": "code",
      "source": [
        "with open('data.txt', 'a') as file:\n",
        "    file.write(\"This is a new line.\\n\")\n"
      ],
      "metadata": {
        "id": "QdGM__8gdyOv"
      },
      "execution_count": 15,
      "outputs": []
    },
    {
      "cell_type": "markdown",
      "source": [
        "###11. Write a Python program that uses a try-except block to handle an error when attempting to access a dictionary key that doesn't exist."
      ],
      "metadata": {
        "id": "LoxIrLPVd8l1"
      }
    },
    {
      "cell_type": "code",
      "source": [
        "data = {'name': 'John'}\n",
        "\n",
        "try:\n",
        "    print(data['age'])\n",
        "except KeyError:\n",
        "    print(\"Error: Key 'age' does not exist.\")\n"
      ],
      "metadata": {
        "colab": {
          "base_uri": "https://localhost:8080/"
        },
        "id": "uoZVjuEWeOLu",
        "outputId": "da14a2af-1783-4d3e-c0e8-3272803197bd"
      },
      "execution_count": 16,
      "outputs": [
        {
          "output_type": "stream",
          "name": "stdout",
          "text": [
            "Error: Key 'age' does not exist.\n"
          ]
        }
      ]
    },
    {
      "cell_type": "markdown",
      "source": [
        "###12. Write a program that demonstrates using multiple except blocks to handle different types of exceptions."
      ],
      "metadata": {
        "id": "phoGZqB2eTTE"
      }
    },
    {
      "cell_type": "code",
      "source": [
        "try:\n",
        "    num = int(\"abc\")\n",
        "    result = 10 / 0\n",
        "except ValueError:\n",
        "    print(\"ValueError occurred.\")\n",
        "except ZeroDivisionError:\n",
        "    print(\"ZeroDivisionError occurred.\")\n"
      ],
      "metadata": {
        "colab": {
          "base_uri": "https://localhost:8080/"
        },
        "id": "Gd3Ou24GeYUU",
        "outputId": "d7690cb5-8083-444f-9aaf-a8a1647065ed"
      },
      "execution_count": 17,
      "outputs": [
        {
          "output_type": "stream",
          "name": "stdout",
          "text": [
            "ValueError occurred.\n"
          ]
        }
      ]
    },
    {
      "cell_type": "markdown",
      "source": [
        "###13.  How would you check if a file exists before attempting to read it in Python?"
      ],
      "metadata": {
        "id": "IELnynxbeb0L"
      }
    },
    {
      "cell_type": "code",
      "source": [
        "import os\n",
        "\n",
        "if os.path.exists('data.txt'):\n",
        "    with open('data.txt', 'r') as f:\n",
        "        print(f.read())\n",
        "else:\n",
        "    print(\"File does not exist.\")\n"
      ],
      "metadata": {
        "colab": {
          "base_uri": "https://localhost:8080/"
        },
        "id": "pC-s9U1yefOt",
        "outputId": "aac4e0df-2909-44bb-a97e-b28b09b820bb"
      },
      "execution_count": 18,
      "outputs": [
        {
          "output_type": "stream",
          "name": "stdout",
          "text": [
            "This is a new line.\n",
            "This is a new line.\n",
            "\n"
          ]
        }
      ]
    },
    {
      "cell_type": "markdown",
      "source": [
        "###14.  Write a program that uses the logging module to log both informational and error messages."
      ],
      "metadata": {
        "id": "lS1R8FO7eieU"
      }
    },
    {
      "cell_type": "code",
      "source": [
        "import logging\n",
        "\n",
        "logging.basicConfig(filename='logfile.log', level=logging.INFO)\n",
        "\n",
        "logging.info(\"Program started.\")\n",
        "\n",
        "try:\n",
        "    10 / 0\n",
        "except ZeroDivisionError:\n",
        "    logging.error(\"Error: Division by zero.\")\n"
      ],
      "metadata": {
        "colab": {
          "base_uri": "https://localhost:8080/"
        },
        "id": "dPkNaACfemAL",
        "outputId": "ebca7fe3-218d-4202-913d-a81271c65c07"
      },
      "execution_count": 19,
      "outputs": [
        {
          "output_type": "stream",
          "name": "stderr",
          "text": [
            "ERROR:root:Error: Division by zero.\n"
          ]
        }
      ]
    },
    {
      "cell_type": "markdown",
      "source": [
        "###15.  Write a Python program that prints the content of a file and handles the case when the file is empty."
      ],
      "metadata": {
        "id": "rCfg7B14eo-8"
      }
    },
    {
      "cell_type": "code",
      "source": [
        "# Open and read the file\n",
        "try:\n",
        "    with open('example.txt', 'r') as file:\n",
        "        content = file.read()\n",
        "        if content:\n",
        "            print(content)  # Print content if the file is not empty\n",
        "        else:\n",
        "            print(\"The file is empty.\")  # Handle case when file is empty\n",
        "except FileNotFoundError:\n",
        "    print(\"Error: The file does not exist.\")\n"
      ],
      "metadata": {
        "colab": {
          "base_uri": "https://localhost:8080/"
        },
        "id": "B8tSyiRVev03",
        "outputId": "be575e74-ddbd-4b0e-c578-cbbef061c774"
      },
      "execution_count": 21,
      "outputs": [
        {
          "output_type": "stream",
          "name": "stdout",
          "text": [
            "Hello, World!\n"
          ]
        }
      ]
    },
    {
      "cell_type": "markdown",
      "source": [
        "###16.  Demonstrate how to use memory profiling to check the memory usage of a small program."
      ],
      "metadata": {
        "id": "rUrlzcisfDyj"
      }
    },
    {
      "cell_type": "code",
      "source": [
        "from memory_profiler import profile\n",
        "\n",
        "# Define a function to profile memory usage\n",
        "@profile\n",
        "def create_large_list():\n",
        "    # Creating a large list\n",
        "    my_list = [i for i in range(100000)]\n",
        "    return my_list\n",
        "\n",
        "# Call the function\n",
        "create_large_list()\n"
      ],
      "metadata": {
        "id": "iF7FlpSdfmSP"
      },
      "execution_count": null,
      "outputs": []
    },
    {
      "cell_type": "markdown",
      "source": [
        "###17. Write a Python program to create and write a list of numbers to a file, one number per line."
      ],
      "metadata": {
        "id": "ydoPA1udgQND"
      }
    },
    {
      "cell_type": "code",
      "source": [
        "# Create a list of numbers\n",
        "numbers = [1, 2, 3, 4, 5, 6, 7, 8, 9, 10]\n",
        "\n",
        "# Open a file in write mode\n",
        "with open('numbers.txt', 'w') as file:\n",
        "    # Iterate through the list and write each number to the file\n",
        "    for number in numbers:\n",
        "        file.write(f\"{number}\\n\")\n",
        "\n",
        "print(\"Numbers have been written to 'numbers.txt'.\")\n"
      ],
      "metadata": {
        "colab": {
          "base_uri": "https://localhost:8080/"
        },
        "id": "3G5zs1a1gT8A",
        "outputId": "8b4f116f-0245-4836-e181-633d49901c1e"
      },
      "execution_count": 29,
      "outputs": [
        {
          "output_type": "stream",
          "name": "stdout",
          "text": [
            "Numbers have been written to 'numbers.txt'.\n"
          ]
        }
      ]
    },
    {
      "cell_type": "markdown",
      "source": [
        "###18 How would you implement a basic logging setup that logs to a file with rotation after 1MB?"
      ],
      "metadata": {
        "id": "LCwrb65ZgZi7"
      }
    },
    {
      "cell_type": "code",
      "source": [
        "import logging\n",
        "from logging.handlers import RotatingFileHandler\n",
        "\n",
        "# Set up a logger\n",
        "logger = logging.getLogger('my_logger')\n",
        "logger.setLevel(logging.INFO)  # Set the logging level to INFO\n",
        "\n",
        "# Create a RotatingFileHandler that rotates the log file after 1MB\n",
        "handler = RotatingFileHandler('app.log', maxBytes=1*1024*1024, backupCount=3)\n",
        "handler.setLevel(logging.INFO)  # Set the logging level for this handler\n",
        "\n",
        "# Create a formatter for the log messages\n",
        "formatter = logging.Formatter('%(asctime)s - %(levelname)s - %(message)s')\n",
        "handler.setFormatter(formatter)\n",
        "\n",
        "# Add the handler to the logger\n",
        "logger.addHandler(handler)\n",
        "\n",
        "# Example log messages\n",
        "logger.info('This is an info message.')\n",
        "logger.warning('This is a warning message.')\n",
        "logger.error('This is an error message.')\n"
      ],
      "metadata": {
        "colab": {
          "base_uri": "https://localhost:8080/"
        },
        "id": "fYtSuVqJgc_E",
        "outputId": "eb9f7af3-cefa-41df-b3d2-bb0f6538ef5d"
      },
      "execution_count": 30,
      "outputs": [
        {
          "output_type": "stream",
          "name": "stderr",
          "text": [
            "INFO:my_logger:This is an info message.\n",
            "WARNING:my_logger:This is a warning message.\n",
            "ERROR:my_logger:This is an error message.\n"
          ]
        }
      ]
    },
    {
      "cell_type": "markdown",
      "source": [
        "###19. Write a program that handles both IndexError and KeyError using a try-except block."
      ],
      "metadata": {
        "id": "A-sOZA2Qgidc"
      }
    },
    {
      "cell_type": "code",
      "source": [
        "def handle_errors():\n",
        "    # Example list and dictionary\n",
        "    my_list = [1, 2, 3]\n",
        "    my_dict = {'a': 1, 'b': 2}\n",
        "\n",
        "    try:\n",
        "        # Trying to access an index that does not exist\n",
        "        print(\"Accessing list index 5:\")\n",
        "        print(my_list[5])\n",
        "\n",
        "        # Trying to access a key that does not exist in the dictionary\n",
        "        print(\"\\nAccessing dictionary key 'c':\")\n",
        "        print(my_dict['c'])\n",
        "\n",
        "    except IndexError as ie:\n",
        "        print(f\"IndexError occurred: {ie}\")\n",
        "\n",
        "    except KeyError as ke:\n",
        "        print(f\"KeyError occurred: {ke}\")\n",
        "\n",
        "# Call the function to see the error handling in action\n",
        "handle_errors()\n"
      ],
      "metadata": {
        "colab": {
          "base_uri": "https://localhost:8080/"
        },
        "id": "CJf9n2G5glez",
        "outputId": "f0a60bf9-195a-4505-99a3-252140f632a6"
      },
      "execution_count": 31,
      "outputs": [
        {
          "output_type": "stream",
          "name": "stdout",
          "text": [
            "Accessing list index 5:\n",
            "IndexError occurred: list index out of range\n"
          ]
        }
      ]
    },
    {
      "cell_type": "markdown",
      "source": [
        "###20. How would you open a file and read its contents using a context manager in Python?"
      ],
      "metadata": {
        "id": "FYcsP40ugqNS"
      }
    },
    {
      "cell_type": "code",
      "source": [
        "# Using a context manager to open and read a file\n",
        "file_path = 'example.txt'\n",
        "\n",
        "# Open the file using 'with' to ensure it is properly closed\n",
        "with open(file_path, 'r') as file:\n",
        "    content = file.read()  # Read the entire file content\n",
        "\n",
        "# Print the content of the file\n",
        "print(content)\n"
      ],
      "metadata": {
        "colab": {
          "base_uri": "https://localhost:8080/"
        },
        "id": "6cVywqc_gttT",
        "outputId": "28099d82-5eed-4d90-fdd2-d69603f2396e"
      },
      "execution_count": 32,
      "outputs": [
        {
          "output_type": "stream",
          "name": "stdout",
          "text": [
            "Hello, World!\n"
          ]
        }
      ]
    },
    {
      "cell_type": "markdown",
      "source": [
        "###21. Write a Python program that reads a file and prints the number of occurrences of a specific word."
      ],
      "metadata": {
        "id": "FtjEvhFSgyM7"
      }
    },
    {
      "cell_type": "code",
      "source": [
        "def count_word_in_file(file_path, word_to_count):\n",
        "    try:\n",
        "        # Open the file using a context manager\n",
        "        with open(file_path, 'r') as file:\n",
        "            # Read the entire file content\n",
        "            content = file.read()\n",
        "\n",
        "        # Count occurrences of the specified word\n",
        "        word_count = content.lower().split().count(word_to_count.lower())\n",
        "\n",
        "        print(f\"The word '{word_to_count}' occurs {word_count} times in the file.\")\n",
        "\n",
        "    except FileNotFoundError:\n",
        "        print(f\"Error: The file '{file_path}' was not found.\")\n",
        "    except Exception as e:\n",
        "        print(f\"An error occurred: {e}\")\n",
        "\n",
        "# Specify the file path and word to count\n",
        "file_path = 'example.txt'\n",
        "word_to_count = 'Python'\n",
        "\n",
        "# Call the function to count the occurrences of the word\n",
        "count_word_in_file(file_path, word_to_count)\n"
      ],
      "metadata": {
        "colab": {
          "base_uri": "https://localhost:8080/"
        },
        "id": "QRLkY2g8g1c6",
        "outputId": "bf4fd9a0-0c3e-41bf-c2ef-dc1b73b68565"
      },
      "execution_count": 33,
      "outputs": [
        {
          "output_type": "stream",
          "name": "stdout",
          "text": [
            "The word 'Python' occurs 0 times in the file.\n"
          ]
        }
      ]
    },
    {
      "cell_type": "markdown",
      "source": [
        "###22. How can you check if a file is empty before attempting to read its contents?"
      ],
      "metadata": {
        "id": "QdSy_vC8g6yj"
      }
    },
    {
      "cell_type": "code",
      "source": [
        "import os\n",
        "\n",
        "def check_if_file_is_empty(file_path):\n",
        "    # Check if the file exists and if it is empty\n",
        "    if os.path.exists(file_path):\n",
        "        # Check if the file size is 0 bytes (empty file)\n",
        "        if os.path.getsize(file_path) == 0:\n",
        "            print(f\"The file '{file_path}' is empty.\")\n",
        "        else:\n",
        "            print(f\"The file '{file_path}' is not empty.\")\n",
        "    else:\n",
        "        print(f\"The file '{file_path}' does not exist.\")\n",
        "\n",
        "# Specify the file path\n",
        "file_path = 'example.txt'\n",
        "\n",
        "# Call the function to check if the file is empty\n",
        "check_if_file_is_empty(file_path)\n"
      ],
      "metadata": {
        "colab": {
          "base_uri": "https://localhost:8080/"
        },
        "id": "gcaSI8kahAw_",
        "outputId": "9f1f92f1-ff0d-4ef4-f00f-9a803aa8562c"
      },
      "execution_count": 34,
      "outputs": [
        {
          "output_type": "stream",
          "name": "stdout",
          "text": [
            "The file 'example.txt' is not empty.\n"
          ]
        }
      ]
    },
    {
      "cell_type": "markdown",
      "source": [
        "###23.  Write a Python program that writes to a log file when an error occurs during file handling."
      ],
      "metadata": {
        "id": "p2c3g42xhFLr"
      }
    },
    {
      "cell_type": "code",
      "source": [
        "import logging\n",
        "\n",
        "# Set up logging configuration to log errors to a file\n",
        "logging.basicConfig(filename='file_handling_errors.log',\n",
        "                    level=logging.ERROR,\n",
        "                    format='%(asctime)s - %(levelname)s - %(message)s')\n",
        "\n",
        "def read_file(file_path):\n",
        "    try:\n",
        "        # Try to open and read the file\n",
        "        with open(file_path, 'r') as file:\n",
        "            content = file.read()\n",
        "            print(content)\n",
        "\n",
        "    except FileNotFoundError as e:\n",
        "        logging.error(f\"File not found: {file_path}. Error: {e}\")\n",
        "        print(f\"Error: {e}\")\n",
        "\n",
        "    except PermissionError as e:\n",
        "        logging.error(f\"Permission denied: {file_path}. Error: {e}\")\n",
        "        print(f\"Error: {e}\")\n",
        "\n",
        "    except Exception as e:\n",
        "        logging.error(f\"An unexpected error occurred with file '{file_path}'. Error: {e}\")\n",
        "        print(f\"An unexpected error occurred: {e}\")\n",
        "\n",
        "# Specify the file path\n",
        "file_path = 'non_existent_file.txt'\n",
        "\n",
        "# Call the function to read the file\n",
        "read_file(file_path)\n"
      ],
      "metadata": {
        "colab": {
          "base_uri": "https://localhost:8080/"
        },
        "id": "IJLQvVkDhGsW",
        "outputId": "cfc2762f-c9ad-4101-e63f-325b55f7bf53"
      },
      "execution_count": 35,
      "outputs": [
        {
          "output_type": "stream",
          "name": "stderr",
          "text": [
            "ERROR:root:File not found: non_existent_file.txt. Error: [Errno 2] No such file or directory: 'non_existent_file.txt'\n"
          ]
        },
        {
          "output_type": "stream",
          "name": "stdout",
          "text": [
            "Error: [Errno 2] No such file or directory: 'non_existent_file.txt'\n"
          ]
        }
      ]
    }
  ]
}